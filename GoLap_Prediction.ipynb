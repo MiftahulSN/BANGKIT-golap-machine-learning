{
 "cells": [
  {
   "cell_type": "markdown",
   "metadata": {},
   "source": [
    "## Import Libraries"
   ]
  },
  {
   "cell_type": "code",
   "execution_count": 1,
   "metadata": {},
   "outputs": [],
   "source": [
    "import pandas as pd\n",
    "import tensorflow as tf \n",
    "import matplotlib.pyplot as plt\n",
    "from tensorflow.keras import Sequential\n",
    "from tensorflow.keras.layers import Dense\n",
    "from tensorflow.keras.activations import relu\n",
    "from tensorflow.keras.losses import MeanSquaredError\n",
    "from sklearn.model_selection import train_test_split\n",
    "from sklearn.preprocessing import LabelEncoder, OneHotEncoder\n",
    "from sklearn.preprocessing import MinMaxScaler, StandardScaler"
   ]
  },
  {
   "cell_type": "markdown",
   "metadata": {},
   "source": [
    "## Import Dataset"
   ]
  },
  {
   "cell_type": "code",
   "execution_count": 2,
   "metadata": {},
   "outputs": [
    {
     "data": {
      "text/html": [
       "<div>\n",
       "<style scoped>\n",
       "    .dataframe tbody tr th:only-of-type {\n",
       "        vertical-align: middle;\n",
       "    }\n",
       "\n",
       "    .dataframe tbody tr th {\n",
       "        vertical-align: top;\n",
       "    }\n",
       "\n",
       "    .dataframe thead th {\n",
       "        text-align: right;\n",
       "    }\n",
       "</style>\n",
       "<table border=\"1\" class=\"dataframe\">\n",
       "  <thead>\n",
       "    <tr style=\"text-align: right;\">\n",
       "      <th></th>\n",
       "      <th>Laptop_Index</th>\n",
       "      <th>Link_References</th>\n",
       "      <th>Laptop_Name</th>\n",
       "      <th>User_Rating</th>\n",
       "      <th>Price_in_IDR</th>\n",
       "      <th>Laptop_Type</th>\n",
       "      <th>Dedicated_GPU_in_GB</th>\n",
       "      <th>Processor_Brand</th>\n",
       "      <th>Storage_Type</th>\n",
       "      <th>RAM_in_GB</th>\n",
       "      <th>...</th>\n",
       "      <th>Laptop_Company</th>\n",
       "      <th>Storage_Capacity</th>\n",
       "      <th>Processor</th>\n",
       "      <th>CPU_Rank</th>\n",
       "      <th>Battery_Lifetime_in_Hrs</th>\n",
       "      <th>GPU</th>\n",
       "      <th>GPU_Benchmark_Score</th>\n",
       "      <th>RAM_Type_Tokenized</th>\n",
       "      <th>GPU_Processor_Tokenized</th>\n",
       "      <th>Image_Link</th>\n",
       "    </tr>\n",
       "  </thead>\n",
       "  <tbody>\n",
       "    <tr>\n",
       "      <th>0</th>\n",
       "      <td>1</td>\n",
       "      <td>https://www.flipkart.com/acer-aspire-3-core-i3...</td>\n",
       "      <td>acer aspire 3 core i3 11th gen_type(1)</td>\n",
       "      <td>4.2</td>\n",
       "      <td>6587512</td>\n",
       "      <td>2</td>\n",
       "      <td>0</td>\n",
       "      <td>1</td>\n",
       "      <td>1</td>\n",
       "      <td>4</td>\n",
       "      <td>...</td>\n",
       "      <td>8</td>\n",
       "      <td>256</td>\n",
       "      <td>intel core i3 11th gen</td>\n",
       "      <td>362</td>\n",
       "      <td>4.5</td>\n",
       "      <td>intel uhd</td>\n",
       "      <td>5.05</td>\n",
       "      <td>4</td>\n",
       "      <td>7</td>\n",
       "      <td>https://rukminim2.flixcart.com/image/416/416/k...</td>\n",
       "    </tr>\n",
       "    <tr>\n",
       "      <th>1</th>\n",
       "      <td>2</td>\n",
       "      <td>https://www.flipkart.com/acer-aspire-3-core-i3...</td>\n",
       "      <td>acer aspire 3 core i3 11th gen_type(2)</td>\n",
       "      <td>NaN</td>\n",
       "      <td>7338698</td>\n",
       "      <td>2</td>\n",
       "      <td>0</td>\n",
       "      <td>1</td>\n",
       "      <td>1</td>\n",
       "      <td>8</td>\n",
       "      <td>...</td>\n",
       "      <td>8</td>\n",
       "      <td>512</td>\n",
       "      <td>intel core i3 11th gen</td>\n",
       "      <td>362</td>\n",
       "      <td>4.5</td>\n",
       "      <td>intel uhd</td>\n",
       "      <td>5.05</td>\n",
       "      <td>4</td>\n",
       "      <td>7</td>\n",
       "      <td>https://rukminim2.flixcart.com/image/416/416/l...</td>\n",
       "    </tr>\n",
       "    <tr>\n",
       "      <th>2</th>\n",
       "      <td>3</td>\n",
       "      <td>https://www.flipkart.com/acer-aspire-3-core-i5...</td>\n",
       "      <td>acer aspire 3 core i5 10th gen_type(1)</td>\n",
       "      <td>3.2</td>\n",
       "      <td>8656238</td>\n",
       "      <td>4</td>\n",
       "      <td>2</td>\n",
       "      <td>1</td>\n",
       "      <td>0</td>\n",
       "      <td>8</td>\n",
       "      <td>...</td>\n",
       "      <td>8</td>\n",
       "      <td>1000</td>\n",
       "      <td>intel core i5 10th gen</td>\n",
       "      <td>187</td>\n",
       "      <td>4.5</td>\n",
       "      <td>nvidia geforce gtx mx 330</td>\n",
       "      <td>16.50</td>\n",
       "      <td>4</td>\n",
       "      <td>57</td>\n",
       "      <td>https://rukminim2.flixcart.com/image/416/416/k...</td>\n",
       "    </tr>\n",
       "    <tr>\n",
       "      <th>3</th>\n",
       "      <td>4</td>\n",
       "      <td>https://www.flipkart.com/acer-aspire-3-core-i5...</td>\n",
       "      <td>acer aspire 3 core i5 11th gen_type(1)</td>\n",
       "      <td>NaN</td>\n",
       "      <td>9220898</td>\n",
       "      <td>2</td>\n",
       "      <td>0</td>\n",
       "      <td>1</td>\n",
       "      <td>0</td>\n",
       "      <td>8</td>\n",
       "      <td>...</td>\n",
       "      <td>8</td>\n",
       "      <td>1000</td>\n",
       "      <td>intel core i5 11th gen</td>\n",
       "      <td>108</td>\n",
       "      <td>4.5</td>\n",
       "      <td>iris xe</td>\n",
       "      <td>17.50</td>\n",
       "      <td>4</td>\n",
       "      <td>4</td>\n",
       "      <td>https://rukminim2.flixcart.com/image/416/416/l...</td>\n",
       "    </tr>\n",
       "    <tr>\n",
       "      <th>4</th>\n",
       "      <td>5</td>\n",
       "      <td>https://www.flipkart.com/acer-aspire-3-core-i5...</td>\n",
       "      <td>acer aspire 3 core i5 11th gen_type(2)</td>\n",
       "      <td>NaN</td>\n",
       "      <td>9390296</td>\n",
       "      <td>2</td>\n",
       "      <td>0</td>\n",
       "      <td>1</td>\n",
       "      <td>1</td>\n",
       "      <td>8</td>\n",
       "      <td>...</td>\n",
       "      <td>8</td>\n",
       "      <td>512</td>\n",
       "      <td>intel core i5 11th gen</td>\n",
       "      <td>108</td>\n",
       "      <td>4.5</td>\n",
       "      <td>intel iris xe</td>\n",
       "      <td>17.50</td>\n",
       "      <td>4</td>\n",
       "      <td>8</td>\n",
       "      <td>https://rukminim2.flixcart.com/image/416/416/x...</td>\n",
       "    </tr>\n",
       "  </tbody>\n",
       "</table>\n",
       "<p>5 rows × 28 columns</p>\n",
       "</div>"
      ],
      "text/plain": [
       "   Laptop_Index                                    Link_References  \\\n",
       "0             1  https://www.flipkart.com/acer-aspire-3-core-i3...   \n",
       "1             2  https://www.flipkart.com/acer-aspire-3-core-i3...   \n",
       "2             3  https://www.flipkart.com/acer-aspire-3-core-i5...   \n",
       "3             4  https://www.flipkart.com/acer-aspire-3-core-i5...   \n",
       "4             5  https://www.flipkart.com/acer-aspire-3-core-i5...   \n",
       "\n",
       "                              Laptop_Name  User_Rating  Price_in_IDR  \\\n",
       "0  acer aspire 3 core i3 11th gen_type(1)          4.2       6587512   \n",
       "1  acer aspire 3 core i3 11th gen_type(2)          NaN       7338698   \n",
       "2  acer aspire 3 core i5 10th gen_type(1)          3.2       8656238   \n",
       "3  acer aspire 3 core i5 11th gen_type(1)          NaN       9220898   \n",
       "4  acer aspire 3 core i5 11th gen_type(2)          NaN       9390296   \n",
       "\n",
       "   Laptop_Type  Dedicated_GPU_in_GB  Processor_Brand  Storage_Type  RAM_in_GB  \\\n",
       "0            2                    0                1             1          4   \n",
       "1            2                    0                1             1          8   \n",
       "2            4                    2                1             0          8   \n",
       "3            2                    0                1             0          8   \n",
       "4            2                    0                1             1          8   \n",
       "\n",
       "   ... Laptop_Company  Storage_Capacity               Processor  CPU_Rank  \\\n",
       "0  ...              8               256  intel core i3 11th gen       362   \n",
       "1  ...              8               512  intel core i3 11th gen       362   \n",
       "2  ...              8              1000  intel core i5 10th gen       187   \n",
       "3  ...              8              1000  intel core i5 11th gen       108   \n",
       "4  ...              8               512  intel core i5 11th gen       108   \n",
       "\n",
       "   Battery_Lifetime_in_Hrs                        GPU  GPU_Benchmark_Score  \\\n",
       "0                      4.5                  intel uhd                 5.05   \n",
       "1                      4.5                  intel uhd                 5.05   \n",
       "2                      4.5  nvidia geforce gtx mx 330                16.50   \n",
       "3                      4.5                    iris xe                17.50   \n",
       "4                      4.5              intel iris xe                17.50   \n",
       "\n",
       "   RAM_Type_Tokenized  GPU_Processor_Tokenized  \\\n",
       "0                   4                        7   \n",
       "1                   4                        7   \n",
       "2                   4                       57   \n",
       "3                   4                        4   \n",
       "4                   4                        8   \n",
       "\n",
       "                                          Image_Link  \n",
       "0  https://rukminim2.flixcart.com/image/416/416/k...  \n",
       "1  https://rukminim2.flixcart.com/image/416/416/l...  \n",
       "2  https://rukminim2.flixcart.com/image/416/416/k...  \n",
       "3  https://rukminim2.flixcart.com/image/416/416/l...  \n",
       "4  https://rukminim2.flixcart.com/image/416/416/x...  \n",
       "\n",
       "[5 rows x 28 columns]"
      ]
     },
     "execution_count": 2,
     "metadata": {},
     "output_type": "execute_result"
    }
   ],
   "source": [
    "df = pd.read_csv(r'../Dataset/Golap_Dataset_Final.csv')\n",
    "\n",
    "df.head()"
   ]
  },
  {
   "cell_type": "markdown",
   "metadata": {},
   "source": [
    "## Data Preprocessing"
   ]
  },
  {
   "cell_type": "markdown",
   "metadata": {},
   "source": [
    "one shot : \n",
    "Laptop Type\n",
    "Processor Brand\n",
    "Storage Type\n",
    "Memory Type\n",
    "OS\n",
    "Laptop Company\n",
    "Processor\n",
    "GPU"
   ]
  },
  {
   "cell_type": "code",
   "execution_count": 3,
   "metadata": {},
   "outputs": [
    {
     "data": {
      "text/plain": [
       "Index(['Laptop_Index', 'Link_References', 'Laptop_Name', 'User_Rating',\n",
       "       'Price_in_IDR', 'Laptop_Type', 'Dedicated_GPU_in_GB', 'Processor_Brand',\n",
       "       'Storage_Type', 'RAM_in_GB', 'RAM_Type', 'Memory_Type', 'OS',\n",
       "       'Touchscreen_Features', 'Screen_Size_in_Inch', 'Weight_in_Kg',\n",
       "       'Refresh_Rate', 'Screen_Resolution', 'Laptop_Company',\n",
       "       'Storage_Capacity', 'Processor', 'CPU_Rank', 'Battery_Lifetime_in_Hrs',\n",
       "       'GPU', 'GPU_Benchmark_Score', 'RAM_Type_Tokenized',\n",
       "       'GPU_Processor_Tokenized', 'Image_Link'],\n",
       "      dtype='object')"
      ]
     },
     "execution_count": 3,
     "metadata": {},
     "output_type": "execute_result"
    }
   ],
   "source": [
    "df.columns"
   ]
  },
  {
   "cell_type": "code",
   "execution_count": 4,
   "metadata": {},
   "outputs": [],
   "source": [
    "# X_columns = [\n",
    "#     \"Laptop_Company\",           # one_shot\n",
    "#     \"Laptop_Type\",              # one_shot\n",
    "#     \"Processor_Brand\",          # one_shot\n",
    "#     \"Processor\",                # ?\n",
    "#     \"Storage_Type\",             # binary\n",
    "#     \"Storage_Capacity\",         # numerical\n",
    "#     \"Memory_Type\",              # binary\n",
    "#     \"RAM_Type\",                 # one_shot\n",
    "#     \"RAM_in_GB\",                # numerical\n",
    "#     \"GPU_Processor_Tokenized\",  # numerical\n",
    "#     \"Dedicated_GPU_in_GB\",      # one_shot\n",
    "#     \"Weight_in_Kg\",             # numerical\n",
    "#     \"Screen_Size_in_Inch\",      # numerical\n",
    "#     \"Screen_Resolution\",        # categorical\n",
    "#     \"Touchscreen_Features\"      # binary\n",
    "# ]\n",
    "\n",
    "# y_columns = [\"Price_in_Rupee\"]\n",
    "\n",
    "# X_df = df[X_columns]\n",
    "# y_df = df[y_columns]"
   ]
  },
  {
   "cell_type": "code",
   "execution_count": 5,
   "metadata": {},
   "outputs": [],
   "source": [
    "# X_df.head()"
   ]
  },
  {
   "cell_type": "code",
   "execution_count": 6,
   "metadata": {},
   "outputs": [],
   "source": [
    "# df[\"Processor\"].unique()"
   ]
  },
  {
   "cell_type": "markdown",
   "metadata": {},
   "source": [
    "## Data Preprocessing"
   ]
  },
  {
   "cell_type": "code",
   "execution_count": 7,
   "metadata": {},
   "outputs": [
    {
     "name": "stdout",
     "output_type": "stream",
     "text": [
      "<class 'pandas.core.frame.DataFrame'>\n",
      "RangeIndex: 983 entries, 0 to 982\n",
      "Data columns (total 28 columns):\n",
      " #   Column                   Non-Null Count  Dtype  \n",
      "---  ------                   --------------  -----  \n",
      " 0   Laptop_Index             983 non-null    int64  \n",
      " 1   Link_References          983 non-null    object \n",
      " 2   Laptop_Name              983 non-null    object \n",
      " 3   User_Rating              689 non-null    float64\n",
      " 4   Price_in_IDR             983 non-null    int64  \n",
      " 5   Laptop_Type              983 non-null    int64  \n",
      " 6   Dedicated_GPU_in_GB      983 non-null    int64  \n",
      " 7   Processor_Brand          983 non-null    int64  \n",
      " 8   Storage_Type             983 non-null    int64  \n",
      " 9   RAM_in_GB                983 non-null    int64  \n",
      " 10  RAM_Type                 983 non-null    object \n",
      " 11  Memory_Type              983 non-null    int64  \n",
      " 12  OS                       983 non-null    int64  \n",
      " 13  Touchscreen_Features     983 non-null    int64  \n",
      " 14  Screen_Size_in_Inch      983 non-null    float64\n",
      " 15  Weight_in_Kg             983 non-null    float64\n",
      " 16  Refresh_Rate             983 non-null    int64  \n",
      " 17  Screen_Resolution        983 non-null    int64  \n",
      " 18  Laptop_Company           983 non-null    int64  \n",
      " 19  Storage_Capacity         983 non-null    int64  \n",
      " 20  Processor                983 non-null    object \n",
      " 21  CPU_Rank                 983 non-null    int64  \n",
      " 22  Battery_Lifetime_in_Hrs  983 non-null    float64\n",
      " 23  GPU                      983 non-null    object \n",
      " 24  GPU_Benchmark_Score      983 non-null    float64\n",
      " 25  RAM_Type_Tokenized       983 non-null    int64  \n",
      " 26  GPU_Processor_Tokenized  983 non-null    int64  \n",
      " 27  Image_Link               983 non-null    object \n",
      "dtypes: float64(5), int64(17), object(6)\n",
      "memory usage: 215.2+ KB\n"
     ]
    }
   ],
   "source": [
    "df.info()"
   ]
  },
  {
   "cell_type": "code",
   "execution_count": 8,
   "metadata": {},
   "outputs": [],
   "source": [
    "X = df.drop(columns=[\n",
    "    'Laptop_Index', \n",
    "    'Link_References',\n",
    "    'Laptop_Name',\n",
    "    'User_Rating',\n",
    "    'RAM_Type',\n",
    "    'Processor',\n",
    "    'GPU',\n",
    "    'Image_Link',\n",
    "    'Price_in_IDR'\n",
    "])\n",
    "\n",
    "y = df['Price_in_IDR']\n"
   ]
  },
  {
   "cell_type": "markdown",
   "metadata": {},
   "source": [
    "###### cleaning data"
   ]
  },
  {
   "cell_type": "code",
   "execution_count": 9,
   "metadata": {},
   "outputs": [],
   "source": [
    "X_train, X_test, y_train, y_test = train_test_split(X, y, test_size=0.2, random_state=42)"
   ]
  },
  {
   "cell_type": "code",
   "execution_count": 10,
   "metadata": {},
   "outputs": [],
   "source": [
    "scaler = StandardScaler()\n",
    "\n",
    "X_train = scaler.fit_transform(X_train)\n",
    "X_test = scaler.transform(X_test)\n",
    "\n",
    "y_train = y_train.values.reshape(-1, 1)  # Convert y_train to 2D\n",
    "y_test = y_test.values.reshape(-1, 1)    # Convert y_test to 2D\n",
    "\n",
    "# Now apply the StandardScaler\n",
    "y_train = scaler.fit_transform(y_train)\n",
    "y_test = scaler.transform(y_test)"
   ]
  },
  {
   "cell_type": "code",
   "execution_count": 11,
   "metadata": {},
   "outputs": [],
   "source": [
    "X_train = tf.convert_to_tensor(X_train, dtype=tf.float32)\n",
    "X_test = tf.convert_to_tensor(X_test, dtype=tf.float32)\n",
    "y_train = tf.convert_to_tensor(y_train, dtype=tf.int32)\n",
    "y_test = tf.convert_to_tensor(y_test, dtype=tf.int32)"
   ]
  },
  {
   "cell_type": "markdown",
   "metadata": {},
   "source": [
    "## Model ML"
   ]
  },
  {
   "cell_type": "code",
   "execution_count": 12,
   "metadata": {},
   "outputs": [],
   "source": [
    "model = Sequential(\n",
    "    [   \n",
    "        tf.keras.Input(shape=(19,)),\n",
    "        Dense(units = 15, activation = 'relu', name = \"Layer_1\"),        \n",
    "        Dense(units = 10, activation = 'relu', name = \"Layer_2\"),        \n",
    "        Dense(units = 1)                                                 \n",
    "    ], name=\"GoLap_Prediction\"\n",
    ")"
   ]
  },
  {
   "cell_type": "code",
   "execution_count": 13,
   "metadata": {},
   "outputs": [
    {
     "data": {
      "text/html": [
       "<pre style=\"white-space:pre;overflow-x:auto;line-height:normal;font-family:Menlo,'DejaVu Sans Mono',consolas,'Courier New',monospace\"><span style=\"font-weight: bold\">Model: \"GoLap_Prediction\"</span>\n",
       "</pre>\n"
      ],
      "text/plain": [
       "\u001b[1mModel: \"GoLap_Prediction\"\u001b[0m\n"
      ]
     },
     "metadata": {},
     "output_type": "display_data"
    },
    {
     "data": {
      "text/html": [
       "<pre style=\"white-space:pre;overflow-x:auto;line-height:normal;font-family:Menlo,'DejaVu Sans Mono',consolas,'Courier New',monospace\">┏━━━━━━━━━━━━━━━━━━━━━━━━━━━━━━━━━┳━━━━━━━━━━━━━━━━━━━━━━━━┳━━━━━━━━━━━━━━━┓\n",
       "┃<span style=\"font-weight: bold\"> Layer (type)                    </span>┃<span style=\"font-weight: bold\"> Output Shape           </span>┃<span style=\"font-weight: bold\">       Param # </span>┃\n",
       "┡━━━━━━━━━━━━━━━━━━━━━━━━━━━━━━━━━╇━━━━━━━━━━━━━━━━━━━━━━━━╇━━━━━━━━━━━━━━━┩\n",
       "│ Layer_1 (<span style=\"color: #0087ff; text-decoration-color: #0087ff\">Dense</span>)                 │ (<span style=\"color: #00d7ff; text-decoration-color: #00d7ff\">None</span>, <span style=\"color: #00af00; text-decoration-color: #00af00\">15</span>)             │           <span style=\"color: #00af00; text-decoration-color: #00af00\">300</span> │\n",
       "├─────────────────────────────────┼────────────────────────┼───────────────┤\n",
       "│ Layer_2 (<span style=\"color: #0087ff; text-decoration-color: #0087ff\">Dense</span>)                 │ (<span style=\"color: #00d7ff; text-decoration-color: #00d7ff\">None</span>, <span style=\"color: #00af00; text-decoration-color: #00af00\">10</span>)             │           <span style=\"color: #00af00; text-decoration-color: #00af00\">160</span> │\n",
       "├─────────────────────────────────┼────────────────────────┼───────────────┤\n",
       "│ dense (<span style=\"color: #0087ff; text-decoration-color: #0087ff\">Dense</span>)                   │ (<span style=\"color: #00d7ff; text-decoration-color: #00d7ff\">None</span>, <span style=\"color: #00af00; text-decoration-color: #00af00\">1</span>)              │            <span style=\"color: #00af00; text-decoration-color: #00af00\">11</span> │\n",
       "└─────────────────────────────────┴────────────────────────┴───────────────┘\n",
       "</pre>\n"
      ],
      "text/plain": [
       "┏━━━━━━━━━━━━━━━━━━━━━━━━━━━━━━━━━┳━━━━━━━━━━━━━━━━━━━━━━━━┳━━━━━━━━━━━━━━━┓\n",
       "┃\u001b[1m \u001b[0m\u001b[1mLayer (type)                   \u001b[0m\u001b[1m \u001b[0m┃\u001b[1m \u001b[0m\u001b[1mOutput Shape          \u001b[0m\u001b[1m \u001b[0m┃\u001b[1m \u001b[0m\u001b[1m      Param #\u001b[0m\u001b[1m \u001b[0m┃\n",
       "┡━━━━━━━━━━━━━━━━━━━━━━━━━━━━━━━━━╇━━━━━━━━━━━━━━━━━━━━━━━━╇━━━━━━━━━━━━━━━┩\n",
       "│ Layer_1 (\u001b[38;5;33mDense\u001b[0m)                 │ (\u001b[38;5;45mNone\u001b[0m, \u001b[38;5;34m15\u001b[0m)             │           \u001b[38;5;34m300\u001b[0m │\n",
       "├─────────────────────────────────┼────────────────────────┼───────────────┤\n",
       "│ Layer_2 (\u001b[38;5;33mDense\u001b[0m)                 │ (\u001b[38;5;45mNone\u001b[0m, \u001b[38;5;34m10\u001b[0m)             │           \u001b[38;5;34m160\u001b[0m │\n",
       "├─────────────────────────────────┼────────────────────────┼───────────────┤\n",
       "│ dense (\u001b[38;5;33mDense\u001b[0m)                   │ (\u001b[38;5;45mNone\u001b[0m, \u001b[38;5;34m1\u001b[0m)              │            \u001b[38;5;34m11\u001b[0m │\n",
       "└─────────────────────────────────┴────────────────────────┴───────────────┘\n"
      ]
     },
     "metadata": {},
     "output_type": "display_data"
    },
    {
     "data": {
      "text/html": [
       "<pre style=\"white-space:pre;overflow-x:auto;line-height:normal;font-family:Menlo,'DejaVu Sans Mono',consolas,'Courier New',monospace\"><span style=\"font-weight: bold\"> Total params: </span><span style=\"color: #00af00; text-decoration-color: #00af00\">471</span> (1.84 KB)\n",
       "</pre>\n"
      ],
      "text/plain": [
       "\u001b[1m Total params: \u001b[0m\u001b[38;5;34m471\u001b[0m (1.84 KB)\n"
      ]
     },
     "metadata": {},
     "output_type": "display_data"
    },
    {
     "data": {
      "text/html": [
       "<pre style=\"white-space:pre;overflow-x:auto;line-height:normal;font-family:Menlo,'DejaVu Sans Mono',consolas,'Courier New',monospace\"><span style=\"font-weight: bold\"> Trainable params: </span><span style=\"color: #00af00; text-decoration-color: #00af00\">471</span> (1.84 KB)\n",
       "</pre>\n"
      ],
      "text/plain": [
       "\u001b[1m Trainable params: \u001b[0m\u001b[38;5;34m471\u001b[0m (1.84 KB)\n"
      ]
     },
     "metadata": {},
     "output_type": "display_data"
    },
    {
     "data": {
      "text/html": [
       "<pre style=\"white-space:pre;overflow-x:auto;line-height:normal;font-family:Menlo,'DejaVu Sans Mono',consolas,'Courier New',monospace\"><span style=\"font-weight: bold\"> Non-trainable params: </span><span style=\"color: #00af00; text-decoration-color: #00af00\">0</span> (0.00 B)\n",
       "</pre>\n"
      ],
      "text/plain": [
       "\u001b[1m Non-trainable params: \u001b[0m\u001b[38;5;34m0\u001b[0m (0.00 B)\n"
      ]
     },
     "metadata": {},
     "output_type": "display_data"
    }
   ],
   "source": [
    "model.summary()"
   ]
  },
  {
   "cell_type": "code",
   "execution_count": 14,
   "metadata": {},
   "outputs": [],
   "source": [
    "[layer1, layer2, layer3] = model.layers"
   ]
  },
  {
   "cell_type": "code",
   "execution_count": 15,
   "metadata": {},
   "outputs": [
    {
     "name": "stdout",
     "output_type": "stream",
     "text": [
      "W1 shape = (19, 15), b1 shape = (15,)\n",
      "W2 shape = (15, 10), b2 shape = (10,)\n",
      "W3 shape = (10, 1), b3 shape = (1,)\n"
     ]
    }
   ],
   "source": [
    "W1,b1 = layer1.get_weights()\n",
    "W2,b2 = layer2.get_weights()\n",
    "W3,b3 = layer3.get_weights()\n",
    "print(f\"W1 shape = {W1.shape}, b1 shape = {b1.shape}\")\n",
    "print(f\"W2 shape = {W2.shape}, b2 shape = {b2.shape}\")\n",
    "print(f\"W3 shape = {W3.shape}, b3 shape = {b3.shape}\")"
   ]
  },
  {
   "cell_type": "code",
   "execution_count": 16,
   "metadata": {},
   "outputs": [],
   "source": [
    "model.compile(\n",
    "    optimizer=tf.keras.optimizers.Adam(learning_rate=1e-3),\n",
    "    loss=MeanSquaredError\n",
    ")"
   ]
  },
  {
   "cell_type": "code",
   "execution_count": 17,
   "metadata": {},
   "outputs": [
    {
     "name": "stdout",
     "output_type": "stream",
     "text": [
      "Epoch 1/50\n",
      "\u001b[1m25/25\u001b[0m \u001b[32m━━━━━━━━━━━━━━━━━━━━\u001b[0m\u001b[37m\u001b[0m \u001b[1m1s\u001b[0m 9ms/step - loss: 0.6239 - val_loss: 0.6504\n",
      "Epoch 2/50\n",
      "\u001b[1m25/25\u001b[0m \u001b[32m━━━━━━━━━━━━━━━━━━━━\u001b[0m\u001b[37m\u001b[0m \u001b[1m0s\u001b[0m 3ms/step - loss: 0.3495 - val_loss: 0.5653\n",
      "Epoch 3/50\n",
      "\u001b[1m25/25\u001b[0m \u001b[32m━━━━━━━━━━━━━━━━━━━━\u001b[0m\u001b[37m\u001b[0m \u001b[1m0s\u001b[0m 3ms/step - loss: 0.3882 - val_loss: 0.5094\n",
      "Epoch 4/50\n",
      "\u001b[1m25/25\u001b[0m \u001b[32m━━━━━━━━━━━━━━━━━━━━\u001b[0m\u001b[37m\u001b[0m \u001b[1m0s\u001b[0m 3ms/step - loss: 0.3074 - val_loss: 0.4793\n",
      "Epoch 5/50\n",
      "\u001b[1m25/25\u001b[0m \u001b[32m━━━━━━━━━━━━━━━━━━━━\u001b[0m\u001b[37m\u001b[0m \u001b[1m0s\u001b[0m 3ms/step - loss: 0.2751 - val_loss: 0.4535\n",
      "Epoch 6/50\n",
      "\u001b[1m25/25\u001b[0m \u001b[32m━━━━━━━━━━━━━━━━━━━━\u001b[0m\u001b[37m\u001b[0m \u001b[1m0s\u001b[0m 3ms/step - loss: 0.2152 - val_loss: 0.4316\n",
      "Epoch 7/50\n",
      "\u001b[1m25/25\u001b[0m \u001b[32m━━━━━━━━━━━━━━━━━━━━\u001b[0m\u001b[37m\u001b[0m \u001b[1m0s\u001b[0m 3ms/step - loss: 0.2576 - val_loss: 0.4196\n",
      "Epoch 8/50\n",
      "\u001b[1m25/25\u001b[0m \u001b[32m━━━━━━━━━━━━━━━━━━━━\u001b[0m\u001b[37m\u001b[0m \u001b[1m0s\u001b[0m 3ms/step - loss: 0.2673 - val_loss: 0.3981\n",
      "Epoch 9/50\n",
      "\u001b[1m25/25\u001b[0m \u001b[32m━━━━━━━━━━━━━━━━━━━━\u001b[0m\u001b[37m\u001b[0m \u001b[1m0s\u001b[0m 3ms/step - loss: 0.1939 - val_loss: 0.3907\n",
      "Epoch 10/50\n",
      "\u001b[1m25/25\u001b[0m \u001b[32m━━━━━━━━━━━━━━━━━━━━\u001b[0m\u001b[37m\u001b[0m \u001b[1m0s\u001b[0m 3ms/step - loss: 0.1738 - val_loss: 0.3858\n",
      "Epoch 11/50\n",
      "\u001b[1m25/25\u001b[0m \u001b[32m━━━━━━━━━━━━━━━━━━━━\u001b[0m\u001b[37m\u001b[0m \u001b[1m0s\u001b[0m 3ms/step - loss: 0.1419 - val_loss: 0.3763\n",
      "Epoch 12/50\n",
      "\u001b[1m25/25\u001b[0m \u001b[32m━━━━━━━━━━━━━━━━━━━━\u001b[0m\u001b[37m\u001b[0m \u001b[1m0s\u001b[0m 2ms/step - loss: 0.1404 - val_loss: 0.3717\n",
      "Epoch 13/50\n",
      "\u001b[1m25/25\u001b[0m \u001b[32m━━━━━━━━━━━━━━━━━━━━\u001b[0m\u001b[37m\u001b[0m \u001b[1m0s\u001b[0m 3ms/step - loss: 0.1654 - val_loss: 0.3627\n",
      "Epoch 14/50\n",
      "\u001b[1m25/25\u001b[0m \u001b[32m━━━━━━━━━━━━━━━━━━━━\u001b[0m\u001b[37m\u001b[0m \u001b[1m0s\u001b[0m 3ms/step - loss: 0.2096 - val_loss: 0.3543\n",
      "Epoch 15/50\n",
      "\u001b[1m25/25\u001b[0m \u001b[32m━━━━━━━━━━━━━━━━━━━━\u001b[0m\u001b[37m\u001b[0m \u001b[1m0s\u001b[0m 3ms/step - loss: 0.1773 - val_loss: 0.3529\n",
      "Epoch 16/50\n",
      "\u001b[1m25/25\u001b[0m \u001b[32m━━━━━━━━━━━━━━━━━━━━\u001b[0m\u001b[37m\u001b[0m \u001b[1m0s\u001b[0m 3ms/step - loss: 0.1955 - val_loss: 0.3470\n",
      "Epoch 17/50\n",
      "\u001b[1m25/25\u001b[0m \u001b[32m━━━━━━━━━━━━━━━━━━━━\u001b[0m\u001b[37m\u001b[0m \u001b[1m0s\u001b[0m 3ms/step - loss: 0.1876 - val_loss: 0.3440\n",
      "Epoch 18/50\n",
      "\u001b[1m25/25\u001b[0m \u001b[32m━━━━━━━━━━━━━━━━━━━━\u001b[0m\u001b[37m\u001b[0m \u001b[1m0s\u001b[0m 3ms/step - loss: 0.1835 - val_loss: 0.3447\n",
      "Epoch 19/50\n",
      "\u001b[1m25/25\u001b[0m \u001b[32m━━━━━━━━━━━━━━━━━━━━\u001b[0m\u001b[37m\u001b[0m \u001b[1m0s\u001b[0m 3ms/step - loss: 0.1653 - val_loss: 0.3350\n",
      "Epoch 20/50\n",
      "\u001b[1m25/25\u001b[0m \u001b[32m━━━━━━━━━━━━━━━━━━━━\u001b[0m\u001b[37m\u001b[0m \u001b[1m0s\u001b[0m 3ms/step - loss: 0.1811 - val_loss: 0.3341\n",
      "Epoch 21/50\n",
      "\u001b[1m25/25\u001b[0m \u001b[32m━━━━━━━━━━━━━━━━━━━━\u001b[0m\u001b[37m\u001b[0m \u001b[1m0s\u001b[0m 2ms/step - loss: 0.1501 - val_loss: 0.3259\n",
      "Epoch 22/50\n",
      "\u001b[1m25/25\u001b[0m \u001b[32m━━━━━━━━━━━━━━━━━━━━\u001b[0m\u001b[37m\u001b[0m \u001b[1m0s\u001b[0m 3ms/step - loss: 0.1562 - val_loss: 0.3250\n",
      "Epoch 23/50\n",
      "\u001b[1m25/25\u001b[0m \u001b[32m━━━━━━━━━━━━━━━━━━━━\u001b[0m\u001b[37m\u001b[0m \u001b[1m0s\u001b[0m 3ms/step - loss: 0.1460 - val_loss: 0.3238\n",
      "Epoch 24/50\n",
      "\u001b[1m25/25\u001b[0m \u001b[32m━━━━━━━━━━━━━━━━━━━━\u001b[0m\u001b[37m\u001b[0m \u001b[1m0s\u001b[0m 3ms/step - loss: 0.1508 - val_loss: 0.3148\n",
      "Epoch 25/50\n",
      "\u001b[1m25/25\u001b[0m \u001b[32m━━━━━━━━━━━━━━━━━━━━\u001b[0m\u001b[37m\u001b[0m \u001b[1m0s\u001b[0m 2ms/step - loss: 0.1926 - val_loss: 0.3215\n",
      "Epoch 26/50\n",
      "\u001b[1m25/25\u001b[0m \u001b[32m━━━━━━━━━━━━━━━━━━━━\u001b[0m\u001b[37m\u001b[0m \u001b[1m0s\u001b[0m 2ms/step - loss: 0.1228 - val_loss: 0.3177\n",
      "Epoch 27/50\n",
      "\u001b[1m25/25\u001b[0m \u001b[32m━━━━━━━━━━━━━━━━━━━━\u001b[0m\u001b[37m\u001b[0m \u001b[1m0s\u001b[0m 3ms/step - loss: 0.1610 - val_loss: 0.3125\n",
      "Epoch 28/50\n",
      "\u001b[1m25/25\u001b[0m \u001b[32m━━━━━━━━━━━━━━━━━━━━\u001b[0m\u001b[37m\u001b[0m \u001b[1m0s\u001b[0m 3ms/step - loss: 0.1521 - val_loss: 0.3079\n",
      "Epoch 29/50\n",
      "\u001b[1m25/25\u001b[0m \u001b[32m━━━━━━━━━━━━━━━━━━━━\u001b[0m\u001b[37m\u001b[0m \u001b[1m0s\u001b[0m 3ms/step - loss: 0.1204 - val_loss: 0.3090\n",
      "Epoch 30/50\n",
      "\u001b[1m25/25\u001b[0m \u001b[32m━━━━━━━━━━━━━━━━━━━━\u001b[0m\u001b[37m\u001b[0m \u001b[1m0s\u001b[0m 3ms/step - loss: 0.1085 - val_loss: 0.3081\n",
      "Epoch 31/50\n",
      "\u001b[1m25/25\u001b[0m \u001b[32m━━━━━━━━━━━━━━━━━━━━\u001b[0m\u001b[37m\u001b[0m \u001b[1m0s\u001b[0m 2ms/step - loss: 0.1158 - val_loss: 0.3062\n",
      "Epoch 32/50\n",
      "\u001b[1m25/25\u001b[0m \u001b[32m━━━━━━━━━━━━━━━━━━━━\u001b[0m\u001b[37m\u001b[0m \u001b[1m0s\u001b[0m 2ms/step - loss: 0.1252 - val_loss: 0.3076\n",
      "Epoch 33/50\n",
      "\u001b[1m25/25\u001b[0m \u001b[32m━━━━━━━━━━━━━━━━━━━━\u001b[0m\u001b[37m\u001b[0m \u001b[1m0s\u001b[0m 2ms/step - loss: 0.1174 - val_loss: 0.3077\n",
      "Epoch 34/50\n",
      "\u001b[1m25/25\u001b[0m \u001b[32m━━━━━━━━━━━━━━━━━━━━\u001b[0m\u001b[37m\u001b[0m \u001b[1m0s\u001b[0m 4ms/step - loss: 0.1215 - val_loss: 0.3080\n",
      "Epoch 35/50\n",
      "\u001b[1m25/25\u001b[0m \u001b[32m━━━━━━━━━━━━━━━━━━━━\u001b[0m\u001b[37m\u001b[0m \u001b[1m0s\u001b[0m 3ms/step - loss: 0.0997 - val_loss: 0.3048\n",
      "Epoch 36/50\n",
      "\u001b[1m25/25\u001b[0m \u001b[32m━━━━━━━━━━━━━━━━━━━━\u001b[0m\u001b[37m\u001b[0m \u001b[1m0s\u001b[0m 3ms/step - loss: 0.1223 - val_loss: 0.3027\n",
      "Epoch 37/50\n",
      "\u001b[1m25/25\u001b[0m \u001b[32m━━━━━━━━━━━━━━━━━━━━\u001b[0m\u001b[37m\u001b[0m \u001b[1m0s\u001b[0m 3ms/step - loss: 0.1342 - val_loss: 0.2962\n",
      "Epoch 38/50\n",
      "\u001b[1m25/25\u001b[0m \u001b[32m━━━━━━━━━━━━━━━━━━━━\u001b[0m\u001b[37m\u001b[0m \u001b[1m0s\u001b[0m 3ms/step - loss: 0.0961 - val_loss: 0.3009\n",
      "Epoch 39/50\n",
      "\u001b[1m25/25\u001b[0m \u001b[32m━━━━━━━━━━━━━━━━━━━━\u001b[0m\u001b[37m\u001b[0m \u001b[1m0s\u001b[0m 3ms/step - loss: 0.1099 - val_loss: 0.2962\n",
      "Epoch 40/50\n",
      "\u001b[1m25/25\u001b[0m \u001b[32m━━━━━━━━━━━━━━━━━━━━\u001b[0m\u001b[37m\u001b[0m \u001b[1m0s\u001b[0m 3ms/step - loss: 0.1126 - val_loss: 0.2964\n",
      "Epoch 41/50\n",
      "\u001b[1m25/25\u001b[0m \u001b[32m━━━━━━━━━━━━━━━━━━━━\u001b[0m\u001b[37m\u001b[0m \u001b[1m0s\u001b[0m 3ms/step - loss: 0.1054 - val_loss: 0.2997\n",
      "Epoch 42/50\n",
      "\u001b[1m25/25\u001b[0m \u001b[32m━━━━━━━━━━━━━━━━━━━━\u001b[0m\u001b[37m\u001b[0m \u001b[1m0s\u001b[0m 3ms/step - loss: 0.1044 - val_loss: 0.2924\n",
      "Epoch 43/50\n",
      "\u001b[1m25/25\u001b[0m \u001b[32m━━━━━━━━━━━━━━━━━━━━\u001b[0m\u001b[37m\u001b[0m \u001b[1m0s\u001b[0m 3ms/step - loss: 0.1276 - val_loss: 0.2960\n",
      "Epoch 44/50\n",
      "\u001b[1m25/25\u001b[0m \u001b[32m━━━━━━━━━━━━━━━━━━━━\u001b[0m\u001b[37m\u001b[0m \u001b[1m0s\u001b[0m 3ms/step - loss: 0.1189 - val_loss: 0.2947\n",
      "Epoch 45/50\n",
      "\u001b[1m25/25\u001b[0m \u001b[32m━━━━━━━━━━━━━━━━━━━━\u001b[0m\u001b[37m\u001b[0m \u001b[1m0s\u001b[0m 2ms/step - loss: 0.1278 - val_loss: 0.2900\n",
      "Epoch 46/50\n",
      "\u001b[1m25/25\u001b[0m \u001b[32m━━━━━━━━━━━━━━━━━━━━\u001b[0m\u001b[37m\u001b[0m \u001b[1m0s\u001b[0m 2ms/step - loss: 0.1050 - val_loss: 0.2950\n",
      "Epoch 47/50\n",
      "\u001b[1m25/25\u001b[0m \u001b[32m━━━━━━━━━━━━━━━━━━━━\u001b[0m\u001b[37m\u001b[0m \u001b[1m0s\u001b[0m 2ms/step - loss: 0.0996 - val_loss: 0.2915\n",
      "Epoch 48/50\n",
      "\u001b[1m25/25\u001b[0m \u001b[32m━━━━━━━━━━━━━━━━━━━━\u001b[0m\u001b[37m\u001b[0m \u001b[1m0s\u001b[0m 2ms/step - loss: 0.1148 - val_loss: 0.2918\n",
      "Epoch 49/50\n",
      "\u001b[1m25/25\u001b[0m \u001b[32m━━━━━━━━━━━━━━━━━━━━\u001b[0m\u001b[37m\u001b[0m \u001b[1m0s\u001b[0m 3ms/step - loss: 0.1012 - val_loss: 0.2903\n",
      "Epoch 50/50\n",
      "\u001b[1m25/25\u001b[0m \u001b[32m━━━━━━━━━━━━━━━━━━━━\u001b[0m\u001b[37m\u001b[0m \u001b[1m0s\u001b[0m 3ms/step - loss: 0.1070 - val_loss: 0.2864\n"
     ]
    }
   ],
   "source": [
    "history = model.fit(\n",
    "    X_train,  \n",
    "    y_train,\n",
    "    epochs=50, \n",
    "    batch_size=32, \n",
    "    validation_data=(X_test, y_test)\n",
    ")"
   ]
  },
  {
   "cell_type": "code",
   "execution_count": 18,
   "metadata": {},
   "outputs": [
    {
     "data": {
      "image/png": "[encoded data removed]",
      "text/plain": [
       "<Figure size 640x480 with 1 Axes>"
      ]
     },
     "metadata": {},
     "output_type": "display_data"
    }
   ],
   "source": [
    "plt.plot(history.history['loss'], label='Training Loss')\n",
    "plt.plot(history.history['val_loss'], label='Validation Loss')\n",
    "plt.xlabel('Epochs')\n",
    "plt.ylabel('Loss')\n",
    "plt.legend()\n",
    "plt.show()"
   ]
  },
  {
   "cell_type": "code",
   "execution_count": 19,
   "metadata": {},
   "outputs": [
    {
     "name": "stdout",
     "output_type": "stream",
     "text": [
      "\u001b[1m7/7\u001b[0m \u001b[32m━━━━━━━━━━━━━━━━━━━━\u001b[0m\u001b[37m\u001b[0m \u001b[1m0s\u001b[0m 2ms/step - loss: 0.2903 \n",
      "Test Loss: 0.28644514083862305\n"
     ]
    }
   ],
   "source": [
    "test_loss = model.evaluate(X_test, y_test)\n",
    "print(f\"Test Loss: {test_loss}\")"
   ]
  },
  {
   "cell_type": "code",
   "execution_count": 20,
   "metadata": {},
   "outputs": [
    {
     "name": "stdout",
     "output_type": "stream",
     "text": [
      "\u001b[1m7/7\u001b[0m \u001b[32m━━━━━━━━━━━━━━━━━━━━\u001b[0m\u001b[37m\u001b[0m \u001b[1m0s\u001b[0m 6ms/step \n"
     ]
    }
   ],
   "source": [
    "y_test = model.predict(X_test)"
   ]
  },
  {
   "cell_type": "code",
   "execution_count": 21,
   "metadata": {},
   "outputs": [],
   "source": [
    "y_ori = scaler.inverse_transform(y_test)"
   ]
  },
  {
   "cell_type": "code",
   "execution_count": 22,
   "metadata": {},
   "outputs": [
    {
     "name": "stdout",
     "output_type": "stream",
     "text": [
      "[[13399301. ]\n",
      " [14272783. ]\n",
      " [12597987. ]\n",
      " [12897093. ]\n",
      " [16486060. ]\n",
      " [13365874. ]\n",
      " [12401480. ]\n",
      " [12963351. ]\n",
      " [11550232. ]\n",
      " [13928909. ]\n",
      " [13182086. ]\n",
      " [11861158. ]\n",
      " [14386240. ]\n",
      " [12810887. ]\n",
      " [14886172. ]\n",
      " [14631105. ]\n",
      " [12540338. ]\n",
      " [21352746. ]\n",
      " [16486060. ]\n",
      " [13164421. ]\n",
      " [13391190. ]\n",
      " [14672798. ]\n",
      " [14523132. ]\n",
      " [ 4269676. ]\n",
      " [13460227. ]\n",
      " [13412421. ]\n",
      " [24422442. ]\n",
      " [13157697. ]\n",
      " [12461745. ]\n",
      " [13051270. ]\n",
      " [16669301. ]\n",
      " [13887765. ]\n",
      " [18378270. ]\n",
      " [12456721. ]\n",
      " [12266335. ]\n",
      " [12573619. ]\n",
      " [16124952. ]\n",
      " [19150666. ]\n",
      " [13458484. ]\n",
      " [13612631. ]\n",
      " [12553198. ]\n",
      " [13952814. ]\n",
      " [12397600. ]\n",
      " [13009568. ]\n",
      " [15211065. ]\n",
      " [21668096. ]\n",
      " [12599192. ]\n",
      " [12144819. ]\n",
      " [12296061. ]\n",
      " [12988188. ]\n",
      " [13354271. ]\n",
      " [12736379. ]\n",
      " [16851218. ]\n",
      " [11972346. ]\n",
      " [16486060. ]\n",
      " [11019244. ]\n",
      " [13136074. ]\n",
      " [14136018. ]\n",
      " [13450561. ]\n",
      " [14074807. ]\n",
      " [12874244. ]\n",
      " [11359613. ]\n",
      " [19716814. ]\n",
      " [12979803. ]\n",
      " [11487549. ]\n",
      " [12821924. ]\n",
      " [12043923. ]\n",
      " [12832716. ]\n",
      " [12986231. ]\n",
      " [15874024. ]\n",
      " [22501716. ]\n",
      " [12174310. ]\n",
      " [13687873. ]\n",
      " [12854751. ]\n",
      " [20655108. ]\n",
      " [19160680. ]\n",
      " [16486060. ]\n",
      " [13001252. ]\n",
      " [11786441. ]\n",
      " [13205850. ]\n",
      " [10198019. ]\n",
      " [12939810. ]\n",
      " [12349197. ]\n",
      " [19424106. ]\n",
      " [14023086. ]\n",
      " [13344471. ]\n",
      " [13397362. ]\n",
      " [12654279. ]\n",
      " [13327322. ]\n",
      " [12828136. ]\n",
      " [11545144. ]\n",
      " [12555131. ]\n",
      " [13106839. ]\n",
      " [12449438. ]\n",
      " [12888403. ]\n",
      " [12830364. ]\n",
      " [13343278. ]\n",
      " [46981424. ]\n",
      " [11756994. ]\n",
      " [11867499. ]\n",
      " [24754824. ]\n",
      " [12537699. ]\n",
      " [11027321. ]\n",
      " [15872218. ]\n",
      " [13412862. ]\n",
      " [13021599. ]\n",
      " [12876742. ]\n",
      " [13166591. ]\n",
      " [12763157. ]\n",
      " [12311671. ]\n",
      " [20726224. ]\n",
      " [12655932. ]\n",
      " [11089068. ]\n",
      " [12829084. ]\n",
      " [14298336. ]\n",
      " [14845853. ]\n",
      " [12769182. ]\n",
      " [19608262. ]\n",
      " [15218682. ]\n",
      " [13788818. ]\n",
      " [28271636. ]\n",
      " [13257527. ]\n",
      " [13152649. ]\n",
      " [11877122. ]\n",
      " [12673721. ]\n",
      " [13182086. ]\n",
      " [14523955. ]\n",
      " [14026343. ]\n",
      " [12720881. ]\n",
      " [24522682. ]\n",
      " [12963351. ]\n",
      " [12830278. ]\n",
      " [17806706. ]\n",
      " [19151204. ]\n",
      " [14845961. ]\n",
      " [14015332. ]\n",
      " [15801337. ]\n",
      " [14026343. ]\n",
      " [11638821. ]\n",
      " [13959874. ]\n",
      " [11509772. ]\n",
      " [ 5506056.5]\n",
      " [12441252. ]\n",
      " [16082495. ]\n",
      " [10070003. ]\n",
      " [ 9076441. ]\n",
      " [14988176. ]\n",
      " [16099177. ]\n",
      " [14490279. ]\n",
      " [11998173. ]\n",
      " [12031454. ]\n",
      " [22667822. ]\n",
      " [12301155. ]\n",
      " [14856163. ]\n",
      " [12449492. ]\n",
      " [20359508. ]\n",
      " [10210213. ]\n",
      " [12720649. ]\n",
      " [12947671. ]\n",
      " [10892918. ]\n",
      " [ 9575811. ]\n",
      " [22506278. ]\n",
      " [12679258. ]\n",
      " [12220097. ]\n",
      " [12925801. ]\n",
      " [11910168. ]\n",
      " [14607786. ]\n",
      " [12968248. ]\n",
      " [ 7751832.5]\n",
      " [12173345. ]\n",
      " [13157697. ]\n",
      " [12919287. ]\n",
      " [11343660. ]\n",
      " [14169706. ]\n",
      " [13154787. ]\n",
      " [11908083. ]\n",
      " [12786294. ]\n",
      " [20940408. ]\n",
      " [13194388. ]\n",
      " [12208490. ]\n",
      " [10136452. ]\n",
      " [13693313. ]\n",
      " [15801337. ]\n",
      " [20651176. ]\n",
      " [13664426. ]\n",
      " [12243153. ]\n",
      " [12540338. ]\n",
      " [12408575. ]\n",
      " [10324305. ]\n",
      " [12907427. ]\n",
      " [12680794. ]\n",
      " [13840119. ]\n",
      " [12472522. ]\n",
      " [12985601. ]\n",
      " [17311746. ]\n",
      " [14272702. ]\n",
      " [12923778. ]]\n"
     ]
    }
   ],
   "source": [
    "print(y_ori)"
   ]
  },
  {
   "cell_type": "code",
   "execution_count": null,
   "metadata": {},
   "outputs": [],
   "source": []
  },
  {
   "cell_type": "code",
   "execution_count": 23,
   "metadata": {},
   "outputs": [],
   "source": [
    "# dont know how to save it\n",
    "# model.save('model.keras')"
   ]
  }
 ],
 "metadata": {
  "kernelspec": {
   "display_name": "GoLap",
   "language": "python",
   "name": "python3"
  },
  "language_info": {
   "codemirror_mode": {
    "name": "ipython",
    "version": 3
   },
   "file_extension": ".py",
   "mimetype": "text/x-python",
   "name": "python",
   "nbconvert_exporter": "python",
   "pygments_lexer": "ipython3",
   "version": "3.9.13"
  }
 },
 "nbformat": 4,
 "nbformat_minor": 2
}
